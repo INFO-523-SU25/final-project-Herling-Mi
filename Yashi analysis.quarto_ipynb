{
  "cells": [
    {
      "cell_type": "code",
      "metadata": {},
      "source": [
        "import pandas as pd\n",
        "import numpy as np\n",
        "import matplotlib.pyplot as plt\n",
        "import seaborn as sns\n",
        "from pandas.plotting import scatter_matrix\n",
        "from sklearn.impute import SimpleImputer\n",
        "from sklearn.preprocessing import LabelEncoder\n",
        "from sklearn.preprocessing import StandardScaler\n",
        "from sklearn.feature_selection import SelectKBest, f_regression\n",
        "from sklearn.ensemble import RandomForestRegressor\n",
        "from sklearn.model_selection import train_test_split\n",
        "from sklearn.decomposition import PCA\n",
        "from sklearn.linear_model import LogisticRegression\n",
        "from sklearn.tree import DecisionTreeClassifier\n",
        "from sklearn.ensemble import RandomForestClassifier\n",
        "from sklearn.metrics import accuracy_score\n",
        "from sklearn.model_selection import cross_val_score\n",
        "from sklearn.preprocessing import PolynomialFeatures\n",
        "from sklearn.metrics import mean_squared_error, r2_score\n",
        "from sklearn.linear_model import RidgeCV\n",
        "from sklearn.linear_model import Ridge\n",
        "from sklearn.linear_model import RidgeCV, LassoCV\n",
        "from sklearn.preprocessing import LabelEncoder\n",
        "from sklearn.model_selection import StratifiedKFold, cross_validate\n",
        "from sklearn.svm import SVC"
      ],
      "id": "a3f78653",
      "execution_count": null,
      "outputs": []
    },
    {
      "cell_type": "code",
      "metadata": {},
      "source": [
        "# Load the dataset\n",
        "df = pd.read_csv(\"data/Y_audio_philes_final_features_mk1.csv\")\n",
        "\n",
        "print(df.head())\n",
        "print(df.info())\n",
        "# Missing value\n",
        "print(df.isnull().sum())"
      ],
      "id": "a5395168",
      "execution_count": null,
      "outputs": []
    },
    {
      "cell_type": "code",
      "metadata": {},
      "source": [
        "# Feature selection\n",
        "df_non_feature = [\"artist\", \"country\", \"language\",\"track_type\"]\n",
        "df_number_feature = df.select_dtypes(include=[np.number]).columns.tolist()\n",
        "df_number_feature = [c for c in df_number_feature if c not in df_non_feature]\n",
        "print(df_number_feature)\n",
        "\n",
        "# Global standardization\n",
        "scaler = StandardScaler()\n",
        "df[df_number_feature] = scaler.fit_transform(df[df_number_feature])\n",
        "\n",
        "# LabelEncoder\n",
        "X_df = df[df_number_feature].copy()\n",
        "le = LabelEncoder()\n",
        "y = le.fit_transform(df[\"language\"].astype(str))\n",
        "label_names = le.classes_"
      ],
      "id": "9a347dfd",
      "execution_count": null,
      "outputs": []
    },
    {
      "cell_type": "code",
      "metadata": {},
      "source": [
        "# track_type_group\n",
        "track_type_all = {0: \"complete_song\", 1: \"vocal_only\", 2: \"no_vocal\"}\n",
        "track_type_specs = {name: (df[\"track_type\"] == code) for code, name in track_type_all.items()}\n",
        "for name, mask in track_type_specs.items():\n",
        "    print(name, \":\", int(mask.sum()))"
      ],
      "id": "e32552ee",
      "execution_count": null,
      "outputs": []
    },
    {
      "cell_type": "code",
      "metadata": {},
      "source": [
        "# k-Fold Cross-Validation\n",
        "k = 5\n",
        "skf = StratifiedKFold(n_splits=k, shuffle=True, random_state=42)"
      ],
      "id": "2aebcc2c",
      "execution_count": null,
      "outputs": []
    },
    {
      "cell_type": "code",
      "metadata": {},
      "source": [
        "# Model training\n",
        "models = {\n",
        "    \"LogReg\": LogisticRegression(max_iter=500, class_weight=\"balanced\", random_state=42),\n",
        "    \"RandomForest\": RandomForestClassifier(\n",
        "        n_estimators=400, class_weight=\"balanced_subsample\", random_state=42, n_jobs=-1\n",
        "    ),\n",
        "    \"SVM_linear\": SVC(kernel=\"linear\", class_weight=\"balanced\", random_state=42),\n",
        "}\n",
        "\n",
        "scoring = {\n",
        "    \"accuracy\": \"accuracy\",\n",
        "    \"precision\": \"precision_macro\",\n",
        "    \"recall\": \"recall_macro\",\n",
        "    \"f1\": \"f1_macro\",\n",
        "}\n",
        "\n",
        "rows = []\n",
        "\n",
        "# Evaluation\n",
        "for track_type_code, ablation_name in track_type_all.items():\n",
        "    mask = df[\"track_type\"] == track_type_code\n",
        "    df_eval = df.loc[mask].reset_index(drop=True)\n",
        "\n",
        "    X = df_eval[df_number_feature].copy()\n",
        "    y = le.transform(df_eval[\"language\"].astype(str))\n",
        "\n",
        "    for name, clf in models.items():\n",
        "        # Use skf and n_jobs=1 here to avoid TerminatedWorkerError\n",
        "        cv = cross_validate(clf, X, y, cv=skf, scoring=scoring, n_jobs=1, return_train_score=False)\n",
        "        acc = np.mean(cv[\"test_accuracy\"])\n",
        "        prec = np.mean(cv[\"test_precision\"])\n",
        "        rec = np.mean(cv[\"test_recall\"])\n",
        "        f1 = np.mean(cv[\"test_f1\"])\n",
        "        rows.append(\n",
        "            {\"ablation\": ablation_name, \"model\": name, \"acc\": acc, \"prec\": prec, \"rec\": rec, \"f1\": f1}\n",
        "        )\n",
        "        print(f\"[{ablation_name} - {name}] Acc={acc:.3f} | Prec={prec:.3f} | Rec={rec:.3f} | F1={f1:.3f}\")"
      ],
      "id": "e90f1c71",
      "execution_count": null,
      "outputs": []
    },
    {
      "cell_type": "code",
      "metadata": {},
      "source": [
        "# Final selection\n",
        "chosen_ablation = \"vocal_only\"    \n",
        "chosen_model    = \"SVM_linear\"   \n",
        "print(\"[Final model]\", \"Ablation =\", chosen_ablation, \"| Model =\", chosen_model)\n",
        "\n",
        "df_best = df.loc[track_type_specs[chosen_ablation]].reset_index(drop=True) \n",
        "X_best = df_best[df_number_feature].copy()\n",
        "y_best = le.transform(df_best[\"language\"].astype(str))\n",
        "\n",
        "final_clf = SVC(kernel=\"linear\", class_weight=\"balanced\", random_state=42)\n",
        "\n",
        "final_clf.fit(X_best, y_best)\n",
        "\n",
        "print(\"[Final Train] Done on\", chosen_ablation, \"-\", chosen_model, \"| n_samples =\", len(df_best))"
      ],
      "id": "4830583b",
      "execution_count": null,
      "outputs": []
    }
  ],
  "metadata": {
    "kernelspec": {
      "name": "python3",
      "language": "python",
      "display_name": "Python 3 (ipykernel)",
      "path": "C:\\Users\\Mr_Green\\OneDrive\\Desktop\\0_Sum_25\\INFO_523\\HWs\\Herling-Mi\\venv\\share\\jupyter\\kernels\\python3"
    }
  },
  "nbformat": 4,
  "nbformat_minor": 5
}